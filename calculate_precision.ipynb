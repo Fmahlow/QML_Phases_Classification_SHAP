{
 "cells": [
  {
   "cell_type": "code",
   "execution_count": 45,
   "metadata": {},
   "outputs": [],
   "source": [
    "import numpy as np\n",
    "import pandas as pd\n",
    "import matplotlib.pyplot as plt\n",
    "from sklearn.metrics import accuracy_score\n",
    "\n",
    "# Funções Ising e BKT\n",
    "def g_ising(k):\n",
    "    return ((1 - k) / k) * (1 - np.sqrt((1 - 3 * k + 4 * (k ** 2)) / (1 - k)))\n",
    "\n",
    "def g_bkt(k):\n",
    "    return 1.05 * np.sqrt((k - 0.5) * (k - 0.1))\n",
    "\n",
    "# Função de rotulação com base no modelo ANNNI\n",
    "def rotular_fase(g, k):\n",
    "    if 0 < k <= 0.5:\n",
    "        g_ising_value = g_ising(k)\n",
    "        if g > g_ising_value:\n",
    "            return 1\n",
    "        else:\n",
    "            return 0\n",
    "    elif 0.5 < k <= 1.5:\n",
    "        g_bkt_value = g_bkt(k)\n",
    "        if g > g_bkt_value:\n",
    "            return 1\n",
    "        else:\n",
    "            return 2\n",
    "    return 0\n"
   ]
  },
  {
   "attachments": {},
   "cell_type": "markdown",
   "metadata": {},
   "source": [
    "# VQC N=8"
   ]
  },
  {
   "cell_type": "code",
   "execution_count": 46,
   "metadata": {},
   "outputs": [
    {
     "name": "stdout",
     "output_type": "stream",
     "text": [
      "Precisão: 94.81%\n"
     ]
    }
   ],
   "source": [
    "# Carregar o arquivo CSV com os dados de g, k e labels verdadeiros\n",
    "df = pd.read_csv('Salva_Certo_PF_8_sites_VQC.csv')\n",
    "\n",
    "# Obter as colunas g, k e label (classificação verdadeira)\n",
    "g_values = df['g']\n",
    "kappa_values = df['k']\n",
    "labels_true = df['predict']\n",
    "\n",
    "# Classificar as fases com base em g e k\n",
    "labels_pred = [rotular_fase(g, kappa) for g, kappa in zip(kappa_values, g_values)]\n",
    "\n",
    "# Calcular a precisão\n",
    "precisao = accuracy_score(labels_true, labels_pred)\n",
    "print(f'Precisão: {precisao * 100:.2f}%')"
   ]
  },
  {
   "attachments": {},
   "cell_type": "markdown",
   "metadata": {},
   "source": [
    "# VQC N=12"
   ]
  },
  {
   "cell_type": "code",
   "execution_count": 48,
   "metadata": {},
   "outputs": [
    {
     "name": "stdout",
     "output_type": "stream",
     "text": [
      "Precisão: 96.49%\n"
     ]
    }
   ],
   "source": [
    "# Carregar o arquivo CSV com os dados de g, k e labels verdadeiros\n",
    "df = pd.read_csv('results_12_sitios_VQC.csv')\n",
    "\n",
    "# Obter as colunas g, k e label (classificação verdadeira)\n",
    "g_values = df['g']\n",
    "kappa_values = df['k']\n",
    "labels_true = df['predict']\n",
    "\n",
    "# Classificar as fases com base em g e k\n",
    "labels_pred = [rotular_fase(g, kappa) for g, kappa in zip(g_values, kappa_values)]\n",
    "\n",
    "# Calcular a precisão\n",
    "precisao = accuracy_score(labels_true, labels_pred)\n",
    "print(f'Precisão: {precisao * 100:.2f}%')"
   ]
  },
  {
   "attachments": {},
   "cell_type": "markdown",
   "metadata": {},
   "source": [
    "# QSVM N=8"
   ]
  },
  {
   "cell_type": "code",
   "execution_count": 50,
   "metadata": {},
   "outputs": [
    {
     "name": "stdout",
     "output_type": "stream",
     "text": [
      "Precisão: 98.46%\n"
     ]
    }
   ],
   "source": [
    "# Carregar o arquivo CSV com os dados de g, k e labels verdadeiros\n",
    "df = pd.read_csv('results_8_sitios_QSVM.csv')\n",
    "\n",
    "# Obter as colunas g, k e label (classificação verdadeira)\n",
    "g_values = df['g']\n",
    "kappa_values = df['k']\n",
    "labels_true = df['predict']\n",
    "\n",
    "# Classificar as fases com base em g e k\n",
    "labels_pred = [rotular_fase(g, kappa) for g, kappa in zip(kappa_values, g_values)]\n",
    "\n",
    "# Calcular a precisão\n",
    "precisao = accuracy_score(labels_true, labels_pred)\n",
    "print(f'Precisão: {precisao * 100:.2f}%')"
   ]
  },
  {
   "attachments": {},
   "cell_type": "markdown",
   "metadata": {},
   "source": [
    "# QSVM N=12"
   ]
  },
  {
   "cell_type": "code",
   "execution_count": 52,
   "metadata": {},
   "outputs": [
    {
     "name": "stdout",
     "output_type": "stream",
     "text": [
      "Precisão: 97.73%\n"
     ]
    }
   ],
   "source": [
    "# Carregar o arquivo CSV com os dados de g, k e labels verdadeiros\n",
    "df = pd.read_csv('results_12_sitios_QSVM.csv')\n",
    "\n",
    "# Obter as colunas g, k e label (classificação verdadeira)\n",
    "g_values = df['g']\n",
    "kappa_values = df['k']\n",
    "labels_true = df['predict']\n",
    "\n",
    "# Classificar as fases com base em g e k\n",
    "labels_pred = [rotular_fase(g, kappa) for g, kappa in zip(g_values, kappa_values)]\n",
    "\n",
    "# Calcular a precisão\n",
    "precisao = accuracy_score(labels_true, labels_pred)\n",
    "print(f'Precisão: {precisao * 100:.2f}%')"
   ]
  },
  {
   "cell_type": "code",
   "execution_count": null,
   "metadata": {},
   "outputs": [],
   "source": []
  }
 ],
 "metadata": {
  "kernelspec": {
   "display_name": "myenv",
   "language": "python",
   "name": "myenv"
  },
  "language_info": {
   "codemirror_mode": {
    "name": "ipython",
    "version": 3
   },
   "file_extension": ".py",
   "mimetype": "text/x-python",
   "name": "python",
   "nbconvert_exporter": "python",
   "pygments_lexer": "ipython3",
   "version": "3.9.13"
  },
  "orig_nbformat": 4
 },
 "nbformat": 4,
 "nbformat_minor": 2
}
